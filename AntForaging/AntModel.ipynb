{
 "cells": [
  {
   "cell_type": "code",
   "execution_count": null,
   "outputs": [],
   "source": [
    "import time\n",
    "\n",
    "from matplotlib import pyplot as plt\n",
    "\n",
    "from AntForaging.Environment import Model\n",
    "\n",
    "model = Model()\n",
    "model.place_food(0.5)\n",
    "timesteps = 600\n",
    "for i in range(timesteps):\n",
    "    model.add_ants(4)\n",
    "    model.move_ants()\n",
    "positions = model.ants\n",
    "\n",
    "xdata = []\n",
    "ydata = []\n",
    "plt.show()\n",
    "axes = plt.gca()\n",
    "axes.set_xlim(0, 30)\n",
    "axes.set_ylim(0, 30)\n",
    "line, = axes.plot(xdata, ydata, 'gx')  # A green mark for an ant\n",
    "\n",
    "for pos in positions:\n",
    "    x, y = pos\n",
    "    xdata.append(x)\n",
    "    ydata.append(y)\n",
    "    line.set_xdata(xdata)\n",
    "    line.set_ydata(ydata)\n",
    "    plt.draw()\n",
    "    plt.pause(1e-17)\n",
    "    time.sleep(0.005)\n",
    "plt.show()\n"
   ],
   "metadata": {
    "collapsed": false,
    "pycharm": {
     "name": "#%%\n",
     "is_executing": true
    }
   }
  }
 ],
 "metadata": {
  "kernelspec": {
   "display_name": "Python 3",
   "language": "python",
   "name": "python3"
  },
  "language_info": {
   "codemirror_mode": {
    "name": "ipython",
    "version": 2
   },
   "file_extension": ".py",
   "mimetype": "text/x-python",
   "name": "python",
   "nbconvert_exporter": "python",
   "pygments_lexer": "ipython2",
   "version": "2.7.6"
  }
 },
 "nbformat": 4,
 "nbformat_minor": 0
}